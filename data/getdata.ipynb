{
 "cells": [
  {
   "cell_type": "code",
   "execution_count": 6,
   "id": "cddb3228",
   "metadata": {},
   "outputs": [
    {
     "name": "stderr",
     "output_type": "stream",
     "text": [
      "/var/folders/yw/6fpv_3v11k3brxsw44l9l4bm0000gn/T/ipykernel_83450/1902355717.py:3: UserWarning: Could not infer format, so each element will be parsed individually, falling back to `dateutil`. To ensure parsing is consistent and as-expected, please specify a format.\n",
      "  nasdaq = pd.read_csv('nasdaq.csv', index_col=0, parse_dates=True)\n"
     ]
    },
    {
     "data": {
      "text/html": [
       "<div>\n",
       "<style scoped>\n",
       "    .dataframe tbody tr th:only-of-type {\n",
       "        vertical-align: middle;\n",
       "    }\n",
       "\n",
       "    .dataframe tbody tr th {\n",
       "        vertical-align: top;\n",
       "    }\n",
       "\n",
       "    .dataframe thead th {\n",
       "        text-align: right;\n",
       "    }\n",
       "</style>\n",
       "<table border=\"1\" class=\"dataframe\">\n",
       "  <thead>\n",
       "    <tr style=\"text-align: right;\">\n",
       "      <th></th>\n",
       "      <th>Name</th>\n",
       "      <th>Last Sale</th>\n",
       "      <th>Net Change</th>\n",
       "      <th>% Change</th>\n",
       "      <th>Market Cap</th>\n",
       "      <th>Country</th>\n",
       "      <th>IPO Year</th>\n",
       "      <th>Volume</th>\n",
       "      <th>Sector</th>\n",
       "      <th>Industry</th>\n",
       "    </tr>\n",
       "    <tr>\n",
       "      <th>Symbol</th>\n",
       "      <th></th>\n",
       "      <th></th>\n",
       "      <th></th>\n",
       "      <th></th>\n",
       "      <th></th>\n",
       "      <th></th>\n",
       "      <th></th>\n",
       "      <th></th>\n",
       "      <th></th>\n",
       "      <th></th>\n",
       "    </tr>\n",
       "  </thead>\n",
       "  <tbody>\n",
       "    <tr>\n",
       "      <th>A</th>\n",
       "      <td>Agilent Technologies Inc. Common Stock</td>\n",
       "      <td>$119.25</td>\n",
       "      <td>-2.130</td>\n",
       "      <td>-1.755%</td>\n",
       "      <td>3.387472e+10</td>\n",
       "      <td>United States</td>\n",
       "      <td>1999.0</td>\n",
       "      <td>1459663</td>\n",
       "      <td>Industrials</td>\n",
       "      <td>Biotechnology: Laboratory Analytical Instruments</td>\n",
       "    </tr>\n",
       "    <tr>\n",
       "      <th>AA</th>\n",
       "      <td>Alcoa Corporation Common Stock</td>\n",
       "      <td>$29.81</td>\n",
       "      <td>-1.340</td>\n",
       "      <td>-4.302%</td>\n",
       "      <td>7.717879e+09</td>\n",
       "      <td>United States</td>\n",
       "      <td>2016.0</td>\n",
       "      <td>5074138</td>\n",
       "      <td>Industrials</td>\n",
       "      <td>Aluminum</td>\n",
       "    </tr>\n",
       "    <tr>\n",
       "      <th>AACB</th>\n",
       "      <td>Artius II Acquisition Inc. Class A Ordinary Sh...</td>\n",
       "      <td>$10.105</td>\n",
       "      <td>0.005</td>\n",
       "      <td>0.05%</td>\n",
       "      <td>0.000000e+00</td>\n",
       "      <td>United States</td>\n",
       "      <td>2025.0</td>\n",
       "      <td>36144</td>\n",
       "      <td>NaN</td>\n",
       "      <td>NaN</td>\n",
       "    </tr>\n",
       "    <tr>\n",
       "      <th>AACBR</th>\n",
       "      <td>Artius II Acquisition Inc. Rights</td>\n",
       "      <td>$0.25</td>\n",
       "      <td>0.030</td>\n",
       "      <td>13.636%</td>\n",
       "      <td>0.000000e+00</td>\n",
       "      <td>United States</td>\n",
       "      <td>2025.0</td>\n",
       "      <td>10627</td>\n",
       "      <td>NaN</td>\n",
       "      <td>NaN</td>\n",
       "    </tr>\n",
       "    <tr>\n",
       "      <th>AACBU</th>\n",
       "      <td>Artius II Acquisition Inc. Units</td>\n",
       "      <td>$10.29</td>\n",
       "      <td>-0.110</td>\n",
       "      <td>-1.058%</td>\n",
       "      <td>0.000000e+00</td>\n",
       "      <td>United States</td>\n",
       "      <td>2025.0</td>\n",
       "      <td>420</td>\n",
       "      <td>Finance</td>\n",
       "      <td>Blank Checks</td>\n",
       "    </tr>\n",
       "  </tbody>\n",
       "</table>\n",
       "</div>"
      ],
      "text/plain": [
       "                                                     Name Last Sale  \\\n",
       "Symbol                                                                \n",
       "A                  Agilent Technologies Inc. Common Stock   $119.25   \n",
       "AA                        Alcoa Corporation Common Stock     $29.81   \n",
       "AACB    Artius II Acquisition Inc. Class A Ordinary Sh...   $10.105   \n",
       "AACBR                   Artius II Acquisition Inc. Rights     $0.25   \n",
       "AACBU                    Artius II Acquisition Inc. Units    $10.29   \n",
       "\n",
       "        Net Change % Change    Market Cap        Country  IPO Year   Volume  \\\n",
       "Symbol                                                                        \n",
       "A           -2.130  -1.755%  3.387472e+10  United States    1999.0  1459663   \n",
       "AA          -1.340  -4.302%  7.717879e+09  United States    2016.0  5074138   \n",
       "AACB         0.005    0.05%  0.000000e+00  United States    2025.0    36144   \n",
       "AACBR        0.030  13.636%  0.000000e+00  United States    2025.0    10627   \n",
       "AACBU       -0.110  -1.058%  0.000000e+00  United States    2025.0      420   \n",
       "\n",
       "             Sector                                          Industry  \n",
       "Symbol                                                                 \n",
       "A       Industrials  Biotechnology: Laboratory Analytical Instruments  \n",
       "AA      Industrials                                          Aluminum  \n",
       "AACB            NaN                                               NaN  \n",
       "AACBR           NaN                                               NaN  \n",
       "AACBU       Finance                                      Blank Checks  "
      ]
     },
     "execution_count": 6,
     "metadata": {},
     "output_type": "execute_result"
    }
   ],
   "source": [
    "import pandas as pd\n",
    "\n",
    "nasdaq = pd.read_csv('nasdaq.csv', index_col=0, parse_dates=True)\n",
    "nasdaq.head()"
   ]
  },
  {
   "cell_type": "code",
   "execution_count": 8,
   "id": "205f8882",
   "metadata": {},
   "outputs": [
    {
     "data": {
      "text/plain": [
       "(6972, 10)"
      ]
     },
     "execution_count": 8,
     "metadata": {},
     "output_type": "execute_result"
    }
   ],
   "source": [
    "nasdaq.shape"
   ]
  },
  {
   "cell_type": "code",
   "execution_count": null,
   "id": "1437d7f0",
   "metadata": {},
   "outputs": [],
   "source": []
  }
 ],
 "metadata": {
  "kernelspec": {
   "display_name": "venv",
   "language": "python",
   "name": "python3"
  },
  "language_info": {
   "codemirror_mode": {
    "name": "ipython",
    "version": 3
   },
   "file_extension": ".py",
   "mimetype": "text/x-python",
   "name": "python",
   "nbconvert_exporter": "python",
   "pygments_lexer": "ipython3",
   "version": "3.12.7"
  }
 },
 "nbformat": 4,
 "nbformat_minor": 5
}
