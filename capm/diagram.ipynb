{
 "cells": [
  {
   "cell_type": "code",
   "execution_count": 27,
   "id": "d410f819",
   "metadata": {},
   "outputs": [],
   "source": [
    "import pandas as pd\n",
    "import glob\n",
    "import matplotlib.pyplot as plt"
   ]
  },
  {
   "cell_type": "code",
   "execution_count": 28,
   "id": "58585d8e",
   "metadata": {},
   "outputs": [],
   "source": [
    "alphas = pd.read_csv(\"parameters.csv\")"
   ]
  },
  {
   "cell_type": "code",
   "execution_count": 29,
   "id": "9569474c",
   "metadata": {},
   "outputs": [],
   "source": [
    "longs = alphas[alphas[\"Alpha\"] > 0][\"Ticker\"].tolist()\n",
    "shorts = alphas[alphas[\"Alpha\"] < 0][\"Ticker\"].tolist()"
   ]
  },
  {
   "cell_type": "code",
   "execution_count": 30,
   "id": "64f912c3",
   "metadata": {},
   "outputs": [],
   "source": [
    "def load_returns(ticker):\n",
    "    path = f\"returns/{ticker}.csv\"\n",
    "    try:\n",
    "        df = pd.read_csv(path)\n",
    "        return df[\"Excess\"].reset_index(drop=True)\n",
    "    except Exception:\n",
    "        print(f\"Warning: Missing data for {ticker}\")\n",
    "        return None"
   ]
  },
  {
   "cell_type": "code",
   "execution_count": 31,
   "id": "ca7e8ac1",
   "metadata": {},
   "outputs": [
    {
     "name": "stdout",
     "output_type": "stream",
     "text": [
      "Warning: Missing data for nan\n"
     ]
    }
   ],
   "source": [
    "long_returns = []\n",
    "short_returns = []\n",
    "\n",
    "for t in longs:\n",
    "    r = load_returns(t)\n",
    "    if r is not None:\n",
    "        long_returns.append(r)\n",
    "\n",
    "for t in shorts:\n",
    "    r = load_returns(t)\n",
    "    if r is not None:\n",
    "        short_returns.append(r)"
   ]
  },
  {
   "cell_type": "code",
   "execution_count": 32,
   "id": "706061d4",
   "metadata": {},
   "outputs": [],
   "source": [
    "long_df = pd.concat(long_returns, axis=1)\n",
    "short_df = pd.concat(short_returns, axis=1)"
   ]
  },
  {
   "cell_type": "code",
   "execution_count": 33,
   "id": "33e8f2e8",
   "metadata": {},
   "outputs": [],
   "source": [
    "portfolio_long = long_df.mean(axis=1)\n",
    "portfolio_short = short_df.mean(axis=1)"
   ]
  },
  {
   "cell_type": "code",
   "execution_count": 34,
   "id": "af945916",
   "metadata": {},
   "outputs": [],
   "source": [
    "long_short = portfolio_long - portfolio_short"
   ]
  },
  {
   "cell_type": "code",
   "execution_count": 35,
   "id": "8daaced4",
   "metadata": {},
   "outputs": [],
   "source": [
    "cumulative = (1 + long_short).cumprod()"
   ]
  },
  {
   "cell_type": "code",
   "execution_count": 36,
   "id": "c57d3ff9",
   "metadata": {},
   "outputs": [
    {
     "data": {
      "text/plain": [
       "[<matplotlib.lines.Line2D at 0x74f8df2c1610>]"
      ]
     },
     "execution_count": 36,
     "metadata": {},
     "output_type": "execute_result"
    },
    {
     "data": {
      "image/png": "[encoded data removed]",
      "text/plain": [
       "<Figure size 640x480 with 1 Axes>"
      ]
     },
     "metadata": {},
     "output_type": "display_data"
    }
   ],
   "source": [
    "plt.plot(cumulative)"
   ]
  },
  {
   "cell_type": "code",
   "execution_count": null,
   "id": "ded314b0",
   "metadata": {},
   "outputs": [],
   "source": []
  }
 ],
 "metadata": {
  "kernelspec": {
   "display_name": "venv",
   "language": "python",
   "name": "python3"
  },
  "language_info": {
   "codemirror_mode": {
    "name": "ipython",
    "version": 3
   },
   "file_extension": ".py",
   "mimetype": "text/x-python",
   "name": "python",
   "nbconvert_exporter": "python",
   "pygments_lexer": "ipython3",
   "version": "3.12.3"
  }
 },
 "nbformat": 4,
 "nbformat_minor": 5
}
