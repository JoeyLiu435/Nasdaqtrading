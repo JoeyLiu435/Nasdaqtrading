{
 "cells": [
  {
   "cell_type": "code",
   "execution_count": 8,
   "id": "d120b686",
   "metadata": {},
   "outputs": [],
   "source": [
    "import pandas as pd\n",
    "import numpy as np"
   ]
  },
  {
   "cell_type": "code",
   "execution_count": 9,
   "id": "9b2c9b4d",
   "metadata": {},
   "outputs": [],
   "source": [
    "aapl = pd.read_csv('../cleaned_data/Nasdaq/AAPL.csv')\n",
    "spx = pd.read_csv('../cleaned_data/SPX.csv')"
   ]
  },
  {
   "cell_type": "code",
   "execution_count": 10,
   "id": "cd8e5ed5",
   "metadata": {},
   "outputs": [
    {
     "data": {
      "text/html": [
       "<div>\n",
       "<style scoped>\n",
       "    .dataframe tbody tr th:only-of-type {\n",
       "        vertical-align: middle;\n",
       "    }\n",
       "\n",
       "    .dataframe tbody tr th {\n",
       "        vertical-align: top;\n",
       "    }\n",
       "\n",
       "    .dataframe thead th {\n",
       "        text-align: right;\n",
       "    }\n",
       "</style>\n",
       "<table border=\"1\" class=\"dataframe\">\n",
       "  <thead>\n",
       "    <tr style=\"text-align: right;\">\n",
       "      <th></th>\n",
       "      <th>AAPL_Close</th>\n",
       "      <th>SPX_Close</th>\n",
       "    </tr>\n",
       "  </thead>\n",
       "  <tbody>\n",
       "    <tr>\n",
       "      <th>0</th>\n",
       "      <td>6.431896</td>\n",
       "      <td>1132.989990</td>\n",
       "    </tr>\n",
       "    <tr>\n",
       "      <th>1</th>\n",
       "      <td>6.443016</td>\n",
       "      <td>1136.520020</td>\n",
       "    </tr>\n",
       "    <tr>\n",
       "      <th>2</th>\n",
       "      <td>6.340531</td>\n",
       "      <td>1137.140015</td>\n",
       "    </tr>\n",
       "    <tr>\n",
       "      <th>3</th>\n",
       "      <td>6.328812</td>\n",
       "      <td>1141.689941</td>\n",
       "    </tr>\n",
       "    <tr>\n",
       "      <th>4</th>\n",
       "      <td>6.370885</td>\n",
       "      <td>1144.979980</td>\n",
       "    </tr>\n",
       "    <tr>\n",
       "      <th>5</th>\n",
       "      <td>6.314685</td>\n",
       "      <td>1146.979980</td>\n",
       "    </tr>\n",
       "    <tr>\n",
       "      <th>6</th>\n",
       "      <td>6.242855</td>\n",
       "      <td>1136.219971</td>\n",
       "    </tr>\n",
       "    <tr>\n",
       "      <th>7</th>\n",
       "      <td>6.330915</td>\n",
       "      <td>1145.680054</td>\n",
       "    </tr>\n",
       "    <tr>\n",
       "      <th>8</th>\n",
       "      <td>6.294247</td>\n",
       "      <td>1148.459961</td>\n",
       "    </tr>\n",
       "    <tr>\n",
       "      <th>9</th>\n",
       "      <td>6.189058</td>\n",
       "      <td>1136.030029</td>\n",
       "    </tr>\n",
       "  </tbody>\n",
       "</table>\n",
       "</div>"
      ],
      "text/plain": [
       "   AAPL_Close    SPX_Close\n",
       "0    6.431896  1132.989990\n",
       "1    6.443016  1136.520020\n",
       "2    6.340531  1137.140015\n",
       "3    6.328812  1141.689941\n",
       "4    6.370885  1144.979980\n",
       "5    6.314685  1146.979980\n",
       "6    6.242855  1136.219971\n",
       "7    6.330915  1145.680054\n",
       "8    6.294247  1148.459961\n",
       "9    6.189058  1136.030029"
      ]
     },
     "execution_count": 10,
     "metadata": {},
     "output_type": "execute_result"
    }
   ],
   "source": [
    "df = pd.DataFrame({\n",
    "    \"AAPL_Close\": aapl[\"Close\"],\n",
    "    \"SPX_Close\": spx[\"Close\"]\n",
    "})\n",
    "df.head(10)"
   ]
  },
  {
   "cell_type": "code",
   "execution_count": null,
   "id": "9731be3b",
   "metadata": {},
   "outputs": [
    {
     "data": {
      "text/html": [
       "<div>\n",
       "<style scoped>\n",
       "    .dataframe tbody tr th:only-of-type {\n",
       "        vertical-align: middle;\n",
       "    }\n",
       "\n",
       "    .dataframe tbody tr th {\n",
       "        vertical-align: top;\n",
       "    }\n",
       "\n",
       "    .dataframe thead th {\n",
       "        text-align: right;\n",
       "    }\n",
       "</style>\n",
       "<table border=\"1\" class=\"dataframe\">\n",
       "  <thead>\n",
       "    <tr style=\"text-align: right;\">\n",
       "      <th></th>\n",
       "      <th>AAPL_Close</th>\n",
       "      <th>SPX_Close</th>\n",
       "    </tr>\n",
       "  </thead>\n",
       "  <tbody>\n",
       "    <tr>\n",
       "      <th>1</th>\n",
       "      <td>0.001729</td>\n",
       "      <td>0.003116</td>\n",
       "    </tr>\n",
       "    <tr>\n",
       "      <th>2</th>\n",
       "      <td>-0.015906</td>\n",
       "      <td>0.000546</td>\n",
       "    </tr>\n",
       "    <tr>\n",
       "      <th>3</th>\n",
       "      <td>-0.001848</td>\n",
       "      <td>0.004001</td>\n",
       "    </tr>\n",
       "    <tr>\n",
       "      <th>4</th>\n",
       "      <td>0.006648</td>\n",
       "      <td>0.002882</td>\n",
       "    </tr>\n",
       "    <tr>\n",
       "      <th>5</th>\n",
       "      <td>-0.008821</td>\n",
       "      <td>0.001747</td>\n",
       "    </tr>\n",
       "    <tr>\n",
       "      <th>6</th>\n",
       "      <td>-0.011375</td>\n",
       "      <td>-0.009381</td>\n",
       "    </tr>\n",
       "    <tr>\n",
       "      <th>7</th>\n",
       "      <td>0.014106</td>\n",
       "      <td>0.008326</td>\n",
       "    </tr>\n",
       "    <tr>\n",
       "      <th>8</th>\n",
       "      <td>-0.005792</td>\n",
       "      <td>0.002426</td>\n",
       "    </tr>\n",
       "    <tr>\n",
       "      <th>9</th>\n",
       "      <td>-0.016712</td>\n",
       "      <td>-0.010823</td>\n",
       "    </tr>\n",
       "    <tr>\n",
       "      <th>10</th>\n",
       "      <td>0.044238</td>\n",
       "      <td>0.012500</td>\n",
       "    </tr>\n",
       "  </tbody>\n",
       "</table>\n",
       "</div>"
      ],
      "text/plain": [
       "    AAPL_Close  SPX_Close\n",
       "1     0.001729   0.003116\n",
       "2    -0.015906   0.000546\n",
       "3    -0.001848   0.004001\n",
       "4     0.006648   0.002882\n",
       "5    -0.008821   0.001747\n",
       "6    -0.011375  -0.009381\n",
       "7     0.014106   0.008326\n",
       "8    -0.005792   0.002426\n",
       "9    -0.016712  -0.010823\n",
       "10    0.044238   0.012500"
      ]
     },
     "execution_count": 12,
     "metadata": {},
     "output_type": "execute_result"
    }
   ],
   "source": [
    "returns = df.pct_change().dropna()\n",
    "returns.head(10)"
   ]
  },
  {
   "cell_type": "code",
   "execution_count": 14,
   "id": "fa6a94a5",
   "metadata": {},
   "outputs": [
    {
     "name": "stdout",
     "output_type": "stream",
     "text": [
      "Beta (AAPL vs SPX): 1.1226045867790317\n"
     ]
    }
   ],
   "source": [
    "cov_matrix = returns.cov()\n",
    "beta = cov_matrix.loc[\"AAPL_Close\", \"SPX_Close\"] / cov_matrix.loc[\"SPX_Close\", \"SPX_Close\"]\n",
    "print(\"Beta (AAPL vs SPX):\", beta)"
   ]
  },
  {
   "cell_type": "code",
   "execution_count": null,
   "id": "048bb7cf",
   "metadata": {},
   "outputs": [
    {
     "name": "stdout",
     "output_type": "stream",
     "text": [
      "                            OLS Regression Results                            \n",
      "==============================================================================\n",
      "Dep. Variable:             AAPL_Close   R-squared:                       0.480\n",
      "Model:                            OLS   Adj. R-squared:                  0.480\n",
      "Method:                 Least Squares   F-statistic:                     3591.\n",
      "Date:                Thu, 25 Sep 2025   Prob (F-statistic):               0.00\n",
      "Time:                        13:30:01   Log-Likelihood:                 11423.\n",
      "No. Observations:                3895   AIC:                        -2.284e+04\n",
      "Df Residuals:                    3893   BIC:                        -2.283e+04\n",
      "Df Model:                           1                                         \n",
      "Covariance Type:            nonrobust                                         \n",
      "==============================================================================\n",
      "                 coef    std err          t      P>|t|      [0.025      0.975]\n",
      "------------------------------------------------------------------------------\n",
      "const          0.0005      0.000      2.371      0.018    8.49e-05       0.001\n",
      "SPX_Close      1.1226      0.019     59.925      0.000       1.086       1.159\n",
      "==============================================================================\n",
      "Omnibus:                      543.655   Durbin-Watson:                   1.902\n",
      "Prob(Omnibus):                  0.000   Jarque-Bera (JB):             7539.468\n",
      "Skew:                           0.029   Prob(JB):                         0.00\n",
      "Kurtosis:                       9.816   Cond. No.                         90.7\n",
      "==============================================================================\n",
      "\n",
      "Notes:\n",
      "[1] Standard Errors assume that the covariance matrix of the errors is correctly specified.\n",
      "Alpha: 0.0004902777361350198, Beta: 1.1226045867790317\n"
     ]
    }
   ],
   "source": [
    "import statsmodels.api as sm\n",
    "\n",
    "X = sm.add_constant(returns[\"SPX_Close\"])\n",
    "y = returns[\"AAPL_Close\"]  \n",
    "\n",
    "model = sm.OLS(y, X).fit()\n",
    "print(model.summary())\n",
    "\n",
    "beta = model.params[\"SPX_Close\"]\n",
    "alpha = model.params[\"const\"]\n",
    "\n",
    "print(f\"Alpha: {alpha}, Beta: {beta}\")"
   ]
  }
 ],
 "metadata": {
  "kernelspec": {
   "display_name": "base",
   "language": "python",
   "name": "python3"
  },
  "language_info": {
   "codemirror_mode": {
    "name": "ipython",
    "version": 3
   },
   "file_extension": ".py",
   "mimetype": "text/x-python",
   "name": "python",
   "nbconvert_exporter": "python",
   "pygments_lexer": "ipython3",
   "version": "3.12.7"
  }
 },
 "nbformat": 4,
 "nbformat_minor": 5
}
